{
 "cells": [
  {
   "cell_type": "markdown",
   "id": "91a1fa5d-4dfa-44ae-af51-04938e974c01",
   "metadata": {},
   "source": [
    "# Zajęcie 2: Metoda gradientu prostego. Stosowanie do algorytmu wstecznej propagacji błędu"
   ]
  },
  {
   "cell_type": "markdown",
   "id": "23909b80-3da4-4415-880f-e6755e20d234",
   "metadata": {},
   "source": [
    "https://towardsdatascience.com/lets-code-a-neural-network-in-plain-numpy-ae7e74410795\n",
    "https://github.com/SkalskiP/ILearnDeepLearning.py/blob/master/01_mysteries_of_neural_networks/03_numpy_neural_net/Numpy%20deep%20neural%20network.ipynb"
   ]
  },
  {
   "cell_type": "markdown",
   "id": "e930f433-27e8-4496-aefe-39ecbd7992ff",
   "metadata": {},
   "source": [
    "## Wizualizacja metody gradientu z użyciem tensorflow"
   ]
  },
  {
   "cell_type": "markdown",
   "id": "dd9992ca-c141-4f77-b362-442fa121628c",
   "metadata": {},
   "source": [
    "### Imports"
   ]
  },
  {
   "cell_type": "code",
   "execution_count": 1,
   "id": "2e161f20-e893-4297-a081-d0eccc73bf10",
   "metadata": {
    "ExecuteTime": {
     "end_time": "2024-01-22T19:42:37.028013Z",
     "start_time": "2024-01-22T19:42:34.196984Z"
    }
   },
   "outputs": [
    {
     "name": "stderr",
     "output_type": "stream",
     "text": [
      "/Users/kacper/projects/mk/venv/lib/python3.9/site-packages/urllib3/__init__.py:34: NotOpenSSLWarning: urllib3 v2.0 only supports OpenSSL 1.1.1+, currently the 'ssl' module is compiled with 'LibreSSL 2.8.3'. See: https://github.com/urllib3/urllib3/issues/3020\n",
      "  warnings.warn(\n"
     ]
    }
   ],
   "source": [
    "import math\n",
    "\n",
    "import tensorflow as tf\n",
    "import numpy as np\n",
    "import matplotlib.pyplot as plt\n",
    "from mpl_toolkits.mplot3d import Axes3D"
   ]
  },
  {
   "cell_type": "markdown",
   "id": "dbae738d-d37b-4c6e-9866-7aaf5661475b",
   "metadata": {},
   "source": [
    "### Example 1"
   ]
  },
  {
   "cell_type": "code",
   "execution_count": 2,
   "id": "bb2d70c3-8bc9-47d8-a99e-ecbc77b09886",
   "metadata": {
    "ExecuteTime": {
     "end_time": "2024-01-22T19:42:39.264344Z",
     "start_time": "2024-01-22T19:42:39.238095Z"
    }
   },
   "outputs": [],
   "source": [
    "x = tf.Variable(2.0)\n",
    "y = tf.Variable(5.0)\n",
    "target_fn = lambda x,y: math.pow(math.e, math.sqrt(x + 3 * y))\n",
    "sgd = tf.keras.optimizers.legacy.SGD(0.1)"
   ]
  },
  {
   "cell_type": "code",
   "execution_count": 3,
   "id": "74484a07-07d1-4cf7-8874-7b11aca6dfbb",
   "metadata": {
    "ExecuteTime": {
     "end_time": "2024-01-22T19:42:41.228284Z",
     "start_time": "2024-01-22T19:42:41.208287Z"
    }
   },
   "outputs": [
    {
     "name": "stdout",
     "output_type": "stream",
     "text": [
      "[<tf.Tensor: shape=(), dtype=float32, numpy=12.0>, <tf.Tensor: shape=(), dtype=float32, numpy=20.0>]\n"
     ]
    }
   ],
   "source": [
    "\"\"\" derivative_tar_on_x = 6x = 12\n",
    "    derivetive_tar_on_y = 4y = 20 \"\"\"\n",
    "with tf.GradientTape() as g:\n",
    "    g.watch(x)\n",
    "    g.watch(y)\n",
    "    t= target_fn(x,y)\n",
    "    gradients = g.gradient(t, sources=[x, y])\n",
    "    print(gradients) # 12, 20"
   ]
  },
  {
   "cell_type": "code",
   "execution_count": 4,
   "id": "15b02843-ba83-4fbf-80cd-2535ba657d35",
   "metadata": {
    "ExecuteTime": {
     "end_time": "2024-01-22T19:42:42.973173Z",
     "start_time": "2024-01-22T19:42:42.953181Z"
    }
   },
   "outputs": [
    {
     "name": "stdout",
     "output_type": "stream",
     "text": [
      "<tf.Variable 'Variable:0' shape=() dtype=float32, numpy=0.79999995>\n",
      "<tf.Variable 'Variable:0' shape=() dtype=float32, numpy=3.0>\n"
     ]
    }
   ],
   "source": [
    "sgd.apply_gradients(zip(gradients, [x, y]))\n",
    "print(x) # 2 - 0.1 * 12 = 0.8\n",
    "print(y) # 5 - 0.1 * 20 = 3.0"
   ]
  },
  {
   "cell_type": "code",
   "execution_count": 5,
   "id": "6d55249a-3ad5-4770-8151-2db9ca62d542",
   "metadata": {
    "ExecuteTime": {
     "end_time": "2024-01-22T19:42:45.154590Z",
     "start_time": "2024-01-22T19:42:44.875354Z"
    }
   },
   "outputs": [
    {
     "ename": "RuntimeError",
     "evalue": "A non-persistent GradientTape can only be used to compute one set of gradients (or jacobians)",
     "output_type": "error",
     "traceback": [
      "\u001B[0;31m---------------------------------------------------------------------------\u001B[0m",
      "\u001B[0;31mRuntimeError\u001B[0m                              Traceback (most recent call last)",
      "Cell \u001B[0;32mIn[5], line 4\u001B[0m\n\u001B[1;32m      2\u001B[0m \u001B[38;5;28;01mwith\u001B[39;00m tf\u001B[38;5;241m.\u001B[39mGradientTape() \u001B[38;5;28;01mas\u001B[39;00m tp:\n\u001B[1;32m      3\u001B[0m        t\u001B[38;5;241m=\u001B[39m target_fn(x,y)\n\u001B[0;32m----> 4\u001B[0m        gradients \u001B[38;5;241m=\u001B[39m \u001B[43mg\u001B[49m\u001B[38;5;241;43m.\u001B[39;49m\u001B[43mgradient\u001B[49m\u001B[43m(\u001B[49m\u001B[43mt\u001B[49m\u001B[43m,\u001B[49m\u001B[43m \u001B[49m\u001B[43msources\u001B[49m\u001B[38;5;241;43m=\u001B[39;49m\u001B[43m[\u001B[49m\u001B[43mx\u001B[49m\u001B[43m,\u001B[49m\u001B[43m \u001B[49m\u001B[43my\u001B[49m\u001B[43m]\u001B[49m\u001B[43m)\u001B[49m\n\u001B[1;32m      5\u001B[0m        n \u001B[38;5;241m=\u001B[39m optimizer\u001B[38;5;241m.\u001B[39mminimize(target_fn(x,y), var_list\u001B[38;5;241m=\u001B[39m[x, y])\n",
      "File \u001B[0;32m~/projects/mk/venv/lib/python3.9/site-packages/tensorflow/python/eager/backprop.py:1005\u001B[0m, in \u001B[0;36mGradientTape.gradient\u001B[0;34m(self, target, sources, output_gradients, unconnected_gradients)\u001B[0m\n\u001B[1;32m    965\u001B[0m \u001B[38;5;250m\u001B[39m\u001B[38;5;124;03m\"\"\"Computes the gradient using operations recorded in context of this tape.\u001B[39;00m\n\u001B[1;32m    966\u001B[0m \n\u001B[1;32m    967\u001B[0m \u001B[38;5;124;03mNote: Unless you set `persistent=True` a GradientTape can only be used to\u001B[39;00m\n\u001B[0;32m   (...)\u001B[0m\n\u001B[1;32m   1002\u001B[0m \u001B[38;5;124;03m   called with an unknown value.\u001B[39;00m\n\u001B[1;32m   1003\u001B[0m \u001B[38;5;124;03m\"\"\"\u001B[39;00m\n\u001B[1;32m   1004\u001B[0m \u001B[38;5;28;01mif\u001B[39;00m \u001B[38;5;28mself\u001B[39m\u001B[38;5;241m.\u001B[39m_tape \u001B[38;5;129;01mis\u001B[39;00m \u001B[38;5;28;01mNone\u001B[39;00m:\n\u001B[0;32m-> 1005\u001B[0m   \u001B[38;5;28;01mraise\u001B[39;00m \u001B[38;5;167;01mRuntimeError\u001B[39;00m(\u001B[38;5;124m\"\u001B[39m\u001B[38;5;124mA non-persistent GradientTape can only be used to \u001B[39m\u001B[38;5;124m\"\u001B[39m\n\u001B[1;32m   1006\u001B[0m                      \u001B[38;5;124m\"\u001B[39m\u001B[38;5;124mcompute one set of gradients (or jacobians)\u001B[39m\u001B[38;5;124m\"\u001B[39m)\n\u001B[1;32m   1007\u001B[0m \u001B[38;5;28;01mif\u001B[39;00m \u001B[38;5;28mself\u001B[39m\u001B[38;5;241m.\u001B[39m_recording:\n\u001B[1;32m   1008\u001B[0m   \u001B[38;5;28;01mif\u001B[39;00m \u001B[38;5;129;01mnot\u001B[39;00m \u001B[38;5;28mself\u001B[39m\u001B[38;5;241m.\u001B[39m_persistent:\n",
      "\u001B[0;31mRuntimeError\u001B[0m: A non-persistent GradientTape can only be used to compute one set of gradients (or jacobians)"
     ]
    }
   ],
   "source": [
    "while abs(target_fn(x,y) - 0) >= 0.01:\n",
    "     with tf.GradientTape() as tp:\n",
    "            t= target_fn(x,y)\n",
    "            gradients = g.gradient(t, sources=[x, y])\n",
    "            n = optimizer.minimize(target_fn(x,y), var_list=[x, y])"
   ]
  },
  {
   "cell_type": "code",
   "execution_count": 6,
   "id": "8c6ea6fc-d689-4df0-a653-7777ca55c78e",
   "metadata": {
    "ExecuteTime": {
     "end_time": "2024-01-22T19:42:48.936240Z",
     "start_time": "2024-01-22T19:42:48.363957Z"
    }
   },
   "outputs": [
    {
     "ename": "NameError",
     "evalue": "name 'x_list' is not defined",
     "output_type": "error",
     "traceback": [
      "\u001B[0;31m---------------------------------------------------------------------------\u001B[0m",
      "\u001B[0;31mNameError\u001B[0m                                 Traceback (most recent call last)",
      "Cell \u001B[0;32mIn[6], line 9\u001B[0m\n\u001B[1;32m      7\u001B[0m cost3D \u001B[38;5;241m=\u001B[39m np\u001B[38;5;241m.\u001B[39marray([np\u001B[38;5;241m.\u001B[39mmean(np\u001B[38;5;241m.\u001B[39msquare(target_fn(x_,y_) \u001B[38;5;241m-\u001B[39m y)) \u001B[38;5;28;01mfor\u001B[39;00m x_, y_ \u001B[38;5;129;01min\u001B[39;00m \u001B[38;5;28mzip\u001B[39m(x3D\u001B[38;5;241m.\u001B[39mflatten(), y3D\u001B[38;5;241m.\u001B[39mflatten())])\u001B[38;5;241m.\u001B[39mreshape(x3D\u001B[38;5;241m.\u001B[39mshape)\n\u001B[1;32m      8\u001B[0m ax\u001B[38;5;241m.\u001B[39mplot_surface(x3D, y3D, cost3D, rstride\u001B[38;5;241m=\u001B[39m\u001B[38;5;241m1\u001B[39m, cstride\u001B[38;5;241m=\u001B[39m\u001B[38;5;241m1\u001B[39m, cmap\u001B[38;5;241m=\u001B[39mplt\u001B[38;5;241m.\u001B[39mget_cmap(\u001B[38;5;124m'\u001B[39m\u001B[38;5;124mrainbow\u001B[39m\u001B[38;5;124m'\u001B[39m), alpha\u001B[38;5;241m=\u001B[39m\u001B[38;5;241m0.6\u001B[39m)\n\u001B[0;32m----> 9\u001B[0m ax\u001B[38;5;241m.\u001B[39mscatter(\u001B[43mx_list\u001B[49m[\u001B[38;5;241m0\u001B[39m], y_list[\u001B[38;5;241m0\u001B[39m], zs\u001B[38;5;241m=\u001B[39mcost_list[\u001B[38;5;241m0\u001B[39m], s\u001B[38;5;241m=\u001B[39m\u001B[38;5;241m300\u001B[39m, c\u001B[38;5;241m=\u001B[39m\u001B[38;5;124m'\u001B[39m\u001B[38;5;124mr\u001B[39m\u001B[38;5;124m'\u001B[39m)  \u001B[38;5;66;03m# initial parameter place\u001B[39;00m\n\u001B[1;32m     10\u001B[0m ax\u001B[38;5;241m.\u001B[39mset_xlabel(\u001B[38;5;124m'\u001B[39m\u001B[38;5;124mx\u001B[39m\u001B[38;5;124m'\u001B[39m); ax\u001B[38;5;241m.\u001B[39mset_ylabel(\u001B[38;5;124m'\u001B[39m\u001B[38;5;124my\u001B[39m\u001B[38;5;124m'\u001B[39m)\n\u001B[1;32m     11\u001B[0m ax\u001B[38;5;241m.\u001B[39mplot(a_list[:angle], b_list[:angle], zs\u001B[38;5;241m=\u001B[39mcost_list[:angle], zdir\u001B[38;5;241m=\u001B[39m\u001B[38;5;124m'\u001B[39m\u001B[38;5;124mz\u001B[39m\u001B[38;5;124m'\u001B[39m, c\u001B[38;5;241m=\u001B[39m\u001B[38;5;124m'\u001B[39m\u001B[38;5;124mr\u001B[39m\u001B[38;5;124m'\u001B[39m, lw\u001B[38;5;241m=\u001B[39m\u001B[38;5;241m3\u001B[39m)    \u001B[38;5;66;03m# plot 3D gradient descent\u001B[39;00m\n",
      "\u001B[0;31mNameError\u001B[0m: name 'x_list' is not defined"
     ]
    },
    {
     "data": {
      "text/plain": "<Figure size 800x800 with 0 Axes>"
     },
     "metadata": {},
     "output_type": "display_data"
    }
   ],
   "source": [
    "# 3D cost figure\n",
    "for angle in range(0, 180):\n",
    "    plt.style.use('dark_background')\n",
    "    fig = plt.figure(figsize=(8,8))\n",
    "    ax = Axes3D(fig)\n",
    "    x3D, y3D = np.meshgrid(np.linspace(-1, 1, 100), np.linspace(-1, 1, 100))  # parameter space\n",
    "    cost3D = np.array([np.mean(np.square(target_fn(x_,y_) - y)) for x_, y_ in zip(x3D.flatten(), y3D.flatten())]).reshape(x3D.shape)\n",
    "    ax.plot_surface(x3D, y3D, cost3D, rstride=1, cstride=1, cmap=plt.get_cmap('rainbow'), alpha=0.6)\n",
    "    ax.scatter(x_list[0], y_list[0], zs=cost_list[0], s=300, c='r')  # initial parameter place\n",
    "    ax.set_xlabel('x'); ax.set_ylabel('y')\n",
    "    ax.plot(a_list[:angle], b_list[:angle], zs=cost_list[:angle], zdir='z', c='r', lw=3)    # plot 3D gradient descent\n",
    "    ax.view_init(30 + (90 - angle)/5, 45 + angle*2)\n",
    "    plt.savefig(\"./\" + OUTPUT_DIR + \"/\" + makeIndexOfLength(angle, 3) + \".png\")\n",
    "    plt.close()"
   ]
  },
  {
   "cell_type": "markdown",
   "id": "d8fba0cf-b19b-4ef0-a8e8-2d37749aed2c",
   "metadata": {},
   "source": [
    "### Example 2"
   ]
  },
  {
   "cell_type": "markdown",
   "id": "ca128ea3-b76b-41f9-a458-97fce0a1dbf1",
   "metadata": {},
   "source": [
    "### Settings"
   ]
  },
  {
   "cell_type": "code",
   "execution_count": 7,
   "id": "1c3e1973-4ff9-4ee9-9400-b29269ab732b",
   "metadata": {
    "ExecuteTime": {
     "end_time": "2024-01-22T19:43:03.238452Z",
     "start_time": "2024-01-22T19:43:03.217807Z"
    }
   },
   "outputs": [],
   "source": [
    "# learning rate\n",
    "LR = 0.04\n",
    "# parameters a and b of the real function\n",
    "REAL_PARAMS = [1.2, 2.5]\n",
    "# starting point for gradient descent\n",
    "INIT_PARAMS = [-1, -1.5]\n",
    "# output directory (the folder must be created on the drive)\n",
    "OUTPUT_DIR = \"gradient_descent\""
   ]
  },
  {
   "cell_type": "markdown",
   "id": "0e6cfd2c-3b1f-4dd9-bd79-52a348567f96",
   "metadata": {},
   "source": [
    "### Auxiliary function"
   ]
  },
  {
   "cell_type": "code",
   "execution_count": 8,
   "id": "ff1eaf38-dc1a-4d15-90a5-5ed5f667060d",
   "metadata": {
    "ExecuteTime": {
     "end_time": "2024-01-22T19:43:05.178608Z",
     "start_time": "2024-01-22T19:43:05.159012Z"
    }
   },
   "outputs": [],
   "source": [
    "# precede the number with zeros, creating a thong of a certain length\n",
    "def makeIndexOfLength(index, length):\n",
    "    indexStr = str(index)\n",
    "    return ('0' * (length - len(indexStr)) + indexStr)"
   ]
  },
  {
   "cell_type": "markdown",
   "id": "73fc14f4-f152-4e02-b835-7dfd897484b5",
   "metadata": {},
   "source": [
    "### Performing the simulation"
   ]
  },
  {
   "cell_type": "code",
   "execution_count": 9,
   "id": "90cba745-f7c3-4455-8cad-c50a5d3bd1c4",
   "metadata": {
    "ExecuteTime": {
     "end_time": "2024-01-22T19:43:07.827197Z",
     "start_time": "2024-01-22T19:43:07.698800Z"
    }
   },
   "outputs": [
    {
     "ename": "NameError",
     "evalue": "name 'b' is not defined",
     "output_type": "error",
     "traceback": [
      "\u001B[0;31m---------------------------------------------------------------------------\u001B[0m",
      "\u001B[0;31mNameError\u001B[0m                                 Traceback (most recent call last)",
      "Cell \u001B[0;32mIn[9], line 11\u001B[0m\n\u001B[1;32m      9\u001B[0m noise \u001B[38;5;241m=\u001B[39m np\u001B[38;5;241m.\u001B[39mrandom\u001B[38;5;241m.\u001B[39mrandn(\u001B[38;5;241m2\u001B[39m)\u001B[38;5;241m/\u001B[39m\u001B[38;5;241m10\u001B[39m\n\u001B[1;32m     10\u001B[0m \u001B[38;5;66;03m#y = y_fun(*REAL_PARAMS) + noise\u001B[39;00m\n\u001B[0;32m---> 11\u001B[0m y \u001B[38;5;241m=\u001B[39m \u001B[43my_fun\u001B[49m\u001B[43m(\u001B[49m\u001B[43m)\u001B[49m \u001B[38;5;241m+\u001B[39m noise\n\u001B[1;32m     13\u001B[0m \u001B[38;5;66;03m# tensorflow graph\u001B[39;00m\n\u001B[1;32m     14\u001B[0m a, b \u001B[38;5;241m=\u001B[39m [tf\u001B[38;5;241m.\u001B[39mVariable(initial_value\u001B[38;5;241m=\u001B[39mp, dtype\u001B[38;5;241m=\u001B[39mtf\u001B[38;5;241m.\u001B[39mfloat32) \u001B[38;5;28;01mfor\u001B[39;00m p \u001B[38;5;129;01min\u001B[39;00m INIT_PARAMS]\n",
      "Cell \u001B[0;32mIn[9], line 5\u001B[0m, in \u001B[0;36m<lambda>\u001B[0;34m()\u001B[0m\n\u001B[1;32m      2\u001B[0m x_ \u001B[38;5;241m=\u001B[39m [\u001B[38;5;241m-\u001B[39m\u001B[38;5;241m1\u001B[39m,\u001B[38;5;241m1\u001B[39m]\n\u001B[1;32m      3\u001B[0m x \u001B[38;5;241m=\u001B[39m [tf\u001B[38;5;241m.\u001B[39mVariable(initial_value\u001B[38;5;241m=\u001B[39mp, dtype\u001B[38;5;241m=\u001B[39mtf\u001B[38;5;241m.\u001B[39mfloat32) \u001B[38;5;28;01mfor\u001B[39;00m p \u001B[38;5;129;01min\u001B[39;00m x_]\n\u001B[0;32m----> 5\u001B[0m y_fun \u001B[38;5;241m=\u001B[39m \u001B[38;5;28;01mlambda\u001B[39;00m: np\u001B[38;5;241m.\u001B[39msin(\u001B[43mb\u001B[49m\u001B[38;5;241m*\u001B[39mnp\u001B[38;5;241m.\u001B[39mcos(a\u001B[38;5;241m*\u001B[39mx))\n\u001B[1;32m      6\u001B[0m tf_y_fun \u001B[38;5;241m=\u001B[39m \u001B[38;5;28;01mlambda\u001B[39;00m: tf\u001B[38;5;241m.\u001B[39msin(b\u001B[38;5;241m*\u001B[39mtf\u001B[38;5;241m.\u001B[39mcos(a\u001B[38;5;241m*\u001B[39mx))\n\u001B[1;32m      8\u001B[0m \u001B[38;5;66;03m#noise = np.random.randn(200)/10\u001B[39;00m\n",
      "\u001B[0;31mNameError\u001B[0m: name 'b' is not defined"
     ]
    }
   ],
   "source": [
    "#x_ = np.linspace(-1, 1, 200, dtype=np.float32)\n",
    "x_ = [-1,1]\n",
    "x = [tf.Variable(initial_value=p, dtype=tf.float32) for p in x_]\n",
    "\n",
    "y_fun = lambda: np.sin(b*np.cos(a*x))\n",
    "tf_y_fun = lambda: tf.sin(b*tf.cos(a*x))\n",
    "\n",
    "#noise = np.random.randn(200)/10\n",
    "noise = np.random.randn(2)/10\n",
    "#y = y_fun(*REAL_PARAMS) + noise\n",
    "y = y_fun() + noise\n",
    "\n",
    "# tensorflow graph\n",
    "a, b = [tf.Variable(initial_value=p, dtype=tf.float32) for p in INIT_PARAMS]\n",
    "pred = tf_y_fun()\n",
    "mse = tf.reduce_mean(tf.square(y-pred))\n",
    "#train_op = tf.train.GradientDescentOptimizer(LR).minimize(mse)\n",
    "\n",
    "with tf.GradientTape() as g:\n",
    "    g.watch(a)\n",
    "    g.watch(b)\n",
    "    t= y_fun()\n",
    "    gradients = g.gradient(t, sources=[a,b])\n",
    "\n",
    "optimizer = tf.optimizers.legacy.SGD(LR)\n",
    "\n",
    "train_op = optimizer.minimize(loss=mse,var_list=[a,b])\n",
    "\n",
    "\n",
    "a_list, b_list, cost_list = [], [], []\n",
    "with tf.Session() as sess:\n",
    "    sess.run(tf.global_variables_initializer())\n",
    "    for s in range(180):\n",
    "        a_, b_, mse_ = sess.run([a, b, mse])\n",
    "        a_list.append(a_); b_list.append(b_); cost_list.append(mse_)\n",
    "        result, _ = sess.run([pred, train_op])                          "
   ]
  },
  {
   "cell_type": "code",
   "execution_count": null,
   "id": "a7f9d0cf-b18b-4daa-b410-75364db90be1",
   "metadata": {
    "ExecuteTime": {
     "start_time": "2024-01-22T19:33:35.926083Z"
    }
   },
   "outputs": [],
   "source": [
    "x"
   ]
  },
  {
   "cell_type": "markdown",
   "id": "36dcb180-8b25-4e5a-9f56-3e2bc0c52179",
   "metadata": {},
   "source": [
    "###  Creates visualization"
   ]
  },
  {
   "cell_type": "code",
   "execution_count": 10,
   "id": "caf03d6c-a501-41f7-8da9-c9138b461304",
   "metadata": {
    "ExecuteTime": {
     "end_time": "2024-01-22T19:43:28.024903Z",
     "start_time": "2024-01-22T19:43:27.965726Z"
    }
   },
   "outputs": [
    {
     "ename": "TypeError",
     "evalue": "<lambda>() takes 0 positional arguments but 2 were given",
     "output_type": "error",
     "traceback": [
      "\u001B[0;31m---------------------------------------------------------------------------\u001B[0m",
      "\u001B[0;31mTypeError\u001B[0m                                 Traceback (most recent call last)",
      "Cell \u001B[0;32mIn[10], line 7\u001B[0m\n\u001B[1;32m      5\u001B[0m ax \u001B[38;5;241m=\u001B[39m Axes3D(fig)\n\u001B[1;32m      6\u001B[0m a3D, b3D \u001B[38;5;241m=\u001B[39m np\u001B[38;5;241m.\u001B[39mmeshgrid(np\u001B[38;5;241m.\u001B[39mlinspace(\u001B[38;5;241m-\u001B[39m\u001B[38;5;241m5\u001B[39m, \u001B[38;5;241m5\u001B[39m, \u001B[38;5;241m100\u001B[39m), np\u001B[38;5;241m.\u001B[39mlinspace(\u001B[38;5;241m-\u001B[39m\u001B[38;5;241m5\u001B[39m, \u001B[38;5;241m5\u001B[39m, \u001B[38;5;241m100\u001B[39m))  \u001B[38;5;66;03m# parameter space\u001B[39;00m\n\u001B[0;32m----> 7\u001B[0m cost3D \u001B[38;5;241m=\u001B[39m np\u001B[38;5;241m.\u001B[39marray([np\u001B[38;5;241m.\u001B[39mmean(np\u001B[38;5;241m.\u001B[39msquare(y_fun(a_, b_) \u001B[38;5;241m-\u001B[39m y)) \u001B[38;5;28;01mfor\u001B[39;00m a_, b_ \u001B[38;5;129;01min\u001B[39;00m \u001B[38;5;28mzip\u001B[39m(a3D\u001B[38;5;241m.\u001B[39mflatten(), b3D\u001B[38;5;241m.\u001B[39mflatten())])\u001B[38;5;241m.\u001B[39mreshape(a3D\u001B[38;5;241m.\u001B[39mshape)\n\u001B[1;32m      8\u001B[0m ax\u001B[38;5;241m.\u001B[39mplot_surface(a3D, b3D, cost3D, rstride\u001B[38;5;241m=\u001B[39m\u001B[38;5;241m1\u001B[39m, cstride\u001B[38;5;241m=\u001B[39m\u001B[38;5;241m1\u001B[39m, cmap\u001B[38;5;241m=\u001B[39mplt\u001B[38;5;241m.\u001B[39mget_cmap(\u001B[38;5;124m'\u001B[39m\u001B[38;5;124mrainbow\u001B[39m\u001B[38;5;124m'\u001B[39m), alpha\u001B[38;5;241m=\u001B[39m\u001B[38;5;241m0.6\u001B[39m)\n\u001B[1;32m      9\u001B[0m ax\u001B[38;5;241m.\u001B[39mscatter(a_list[\u001B[38;5;241m0\u001B[39m], b_list[\u001B[38;5;241m0\u001B[39m], zs\u001B[38;5;241m=\u001B[39mcost_list[\u001B[38;5;241m0\u001B[39m], s\u001B[38;5;241m=\u001B[39m\u001B[38;5;241m300\u001B[39m, c\u001B[38;5;241m=\u001B[39m\u001B[38;5;124m'\u001B[39m\u001B[38;5;124mr\u001B[39m\u001B[38;5;124m'\u001B[39m)  \u001B[38;5;66;03m# initial parameter place\u001B[39;00m\n",
      "Cell \u001B[0;32mIn[10], line 7\u001B[0m, in \u001B[0;36m<listcomp>\u001B[0;34m(.0)\u001B[0m\n\u001B[1;32m      5\u001B[0m ax \u001B[38;5;241m=\u001B[39m Axes3D(fig)\n\u001B[1;32m      6\u001B[0m a3D, b3D \u001B[38;5;241m=\u001B[39m np\u001B[38;5;241m.\u001B[39mmeshgrid(np\u001B[38;5;241m.\u001B[39mlinspace(\u001B[38;5;241m-\u001B[39m\u001B[38;5;241m5\u001B[39m, \u001B[38;5;241m5\u001B[39m, \u001B[38;5;241m100\u001B[39m), np\u001B[38;5;241m.\u001B[39mlinspace(\u001B[38;5;241m-\u001B[39m\u001B[38;5;241m5\u001B[39m, \u001B[38;5;241m5\u001B[39m, \u001B[38;5;241m100\u001B[39m))  \u001B[38;5;66;03m# parameter space\u001B[39;00m\n\u001B[0;32m----> 7\u001B[0m cost3D \u001B[38;5;241m=\u001B[39m np\u001B[38;5;241m.\u001B[39marray([np\u001B[38;5;241m.\u001B[39mmean(np\u001B[38;5;241m.\u001B[39msquare(\u001B[43my_fun\u001B[49m\u001B[43m(\u001B[49m\u001B[43ma_\u001B[49m\u001B[43m,\u001B[49m\u001B[43m \u001B[49m\u001B[43mb_\u001B[49m\u001B[43m)\u001B[49m \u001B[38;5;241m-\u001B[39m y)) \u001B[38;5;28;01mfor\u001B[39;00m a_, b_ \u001B[38;5;129;01min\u001B[39;00m \u001B[38;5;28mzip\u001B[39m(a3D\u001B[38;5;241m.\u001B[39mflatten(), b3D\u001B[38;5;241m.\u001B[39mflatten())])\u001B[38;5;241m.\u001B[39mreshape(a3D\u001B[38;5;241m.\u001B[39mshape)\n\u001B[1;32m      8\u001B[0m ax\u001B[38;5;241m.\u001B[39mplot_surface(a3D, b3D, cost3D, rstride\u001B[38;5;241m=\u001B[39m\u001B[38;5;241m1\u001B[39m, cstride\u001B[38;5;241m=\u001B[39m\u001B[38;5;241m1\u001B[39m, cmap\u001B[38;5;241m=\u001B[39mplt\u001B[38;5;241m.\u001B[39mget_cmap(\u001B[38;5;124m'\u001B[39m\u001B[38;5;124mrainbow\u001B[39m\u001B[38;5;124m'\u001B[39m), alpha\u001B[38;5;241m=\u001B[39m\u001B[38;5;241m0.6\u001B[39m)\n\u001B[1;32m      9\u001B[0m ax\u001B[38;5;241m.\u001B[39mscatter(a_list[\u001B[38;5;241m0\u001B[39m], b_list[\u001B[38;5;241m0\u001B[39m], zs\u001B[38;5;241m=\u001B[39mcost_list[\u001B[38;5;241m0\u001B[39m], s\u001B[38;5;241m=\u001B[39m\u001B[38;5;241m300\u001B[39m, c\u001B[38;5;241m=\u001B[39m\u001B[38;5;124m'\u001B[39m\u001B[38;5;124mr\u001B[39m\u001B[38;5;124m'\u001B[39m)  \u001B[38;5;66;03m# initial parameter place\u001B[39;00m\n",
      "\u001B[0;31mTypeError\u001B[0m: <lambda>() takes 0 positional arguments but 2 were given"
     ]
    },
    {
     "data": {
      "text/plain": "<Figure size 800x800 with 0 Axes>"
     },
     "metadata": {},
     "output_type": "display_data"
    }
   ],
   "source": [
    "# 3D cost figure\n",
    "for angle in range(0, 180):\n",
    "    plt.style.use('dark_background')\n",
    "    fig = plt.figure(figsize=(8,8))\n",
    "    ax = Axes3D(fig)\n",
    "    a3D, b3D = np.meshgrid(np.linspace(-5, 5, 100), np.linspace(-5, 5, 100))  # parameter space\n",
    "    cost3D = np.array([np.mean(np.square(y_fun(a_, b_) - y)) for a_, b_ in zip(a3D.flatten(), b3D.flatten())]).reshape(a3D.shape)\n",
    "    ax.plot_surface(a3D, b3D, cost3D, rstride=1, cstride=1, cmap=plt.get_cmap('rainbow'), alpha=0.6)\n",
    "    ax.scatter(a_list[0], b_list[0], zs=cost_list[0], s=300, c='r')  # initial parameter place\n",
    "    ax.set_xlabel('a'); ax.set_ylabel('b')\n",
    "    ax.plot(a_list[:angle], b_list[:angle], zs=cost_list[:angle], zdir='z', c='r', lw=3)    # plot 3D gradient descent\n",
    "    ax.view_init(30 + (90 - angle)/5, 45 + angle*2)\n",
    "    plt.savefig(\"./\" + OUTPUT_DIR + \"/\" + makeIndexOfLength(angle, 3) + \".png\")\n",
    "    plt.close()"
   ]
  },
  {
   "cell_type": "markdown",
   "id": "3ba72c64-840d-42ef-9b72-77084700ec3c",
   "metadata": {},
   "source": [
    "### Expected results"
   ]
  },
  {
   "cell_type": "markdown",
   "id": "a3f87d5f-c328-4580-8422-def17d1c5dba",
   "metadata": {},
   "source": [
    "Go to OUTPUT_DIR, which should now be filled with subsequent keyframes of our animation. All the resulting images look more or less like this."
   ]
  },
  {
   "cell_type": "markdown",
   "id": "ba12190f-e42e-41b4-996e-cd09fba72f74",
   "metadata": {},
   "source": [
    "<img src=\"./final_visualisations/frames.png\" alt=\"All frames\">"
   ]
  },
  {
   "cell_type": "markdown",
   "id": "9b76bd21-467b-4a99-a6f2-68d68b839b91",
   "metadata": {},
   "source": [
    "Now all you need to do is enter OUTPUT_DIR and use ImageMagick to create a final gift with one command.\n",
    "\n",
    "```bash\n",
    "convert -delay 10 -loop 0 *.png keras_class_boundaries.gif\n",
    "```"
   ]
  },
  {
   "cell_type": "markdown",
   "id": "146638a4-ae4f-429d-b956-3bd9703fe6ac",
   "metadata": {},
   "source": [
    "<img src=\"./final_visualisations/gradient_descent.gif\" alt=\"Gradient descent\">"
   ]
  },
  {
   "cell_type": "markdown",
   "id": "bbd1928c-72dc-4b16-b739-2842c90689f4",
   "metadata": {},
   "source": [
    "## Implementacja \"od zera\" (użycie numpy)"
   ]
  },
  {
   "cell_type": "code",
   "execution_count": 60,
   "id": "45f37b0c-4d18-497e-a70e-9ce5f82a4214",
   "metadata": {
    "ExecuteTime": {
     "end_time": "2024-01-22T21:01:43.128334Z",
     "start_time": "2024-01-22T21:01:43.117523Z"
    }
   },
   "outputs": [],
   "source": [
    "import numpy as np"
   ]
  },
  {
   "cell_type": "markdown",
   "id": "66ed75d1-6afd-471d-af83-671f7e3f1833",
   "metadata": {},
   "source": [
    "## Architektura"
   ]
  },
  {
   "cell_type": "code",
   "execution_count": 61,
   "id": "acaaadaf-d0ee-43f8-b79f-3e82d447478c",
   "metadata": {
    "ExecuteTime": {
     "end_time": "2024-01-22T21:01:43.829921Z",
     "start_time": "2024-01-22T21:01:43.809174Z"
    }
   },
   "outputs": [],
   "source": [
    "nn_architecture = [\n",
    "    {\"input_dim\": 2, \"output_dim\": 2, \"activation\": \"sigmoid\"},\n",
    "    {\"input_dim\": 2, \"output_dim\": 1, \"activation\": \"sigmoid\"}\n",
    "]"
   ]
  },
  {
   "cell_type": "code",
   "execution_count": 62,
   "id": "03051cf7-0c3a-4692-8ce8-06413bd443d7",
   "metadata": {
    "ExecuteTime": {
     "end_time": "2024-01-22T21:01:44.020922Z",
     "start_time": "2024-01-22T21:01:44.011569Z"
    }
   },
   "outputs": [],
   "source": [
    "def init_layers(nn_architecture, seed = 99):\n",
    "    np.random.seed(seed)\n",
    "    number_of_layers = len(nn_architecture)\n",
    "    params_values = {}\n",
    "\n",
    "    for idx, layer in enumerate(nn_architecture):\n",
    "        layer_idx = idx + 1\n",
    "        print(idx)\n",
    "        print(layer)\n",
    "        layer_input_size = layer[\"input_dim\"]\n",
    "        layer_output_size = layer[\"output_dim\"]\n",
    "        \n",
    "        params_values['W' + str(layer_idx)] = np.random.randn(\n",
    "            layer_output_size, layer_input_size) * 0.1\n",
    "        params_values['b' + str(layer_idx)] = np.random.randn(\n",
    "            layer_output_size, 1) * 0.1\n",
    "        \n",
    "    return params_values"
   ]
  },
  {
   "cell_type": "markdown",
   "id": "513503b9-72e4-4396-b517-e0053d7f44d2",
   "metadata": {},
   "source": [
    "## Activation functions"
   ]
  },
  {
   "cell_type": "code",
   "execution_count": 63,
   "id": "6b93536a-234c-46ee-a2c2-f69de84edd2c",
   "metadata": {
    "ExecuteTime": {
     "end_time": "2024-01-22T21:01:44.708733Z",
     "start_time": "2024-01-22T21:01:44.704856Z"
    }
   },
   "outputs": [],
   "source": [
    "def sigmoid(Z):\n",
    "    return 1/(1+np.exp(-Z))\n",
    "\n",
    "def relu(Z):\n",
    "    return np.maximum(0,Z)\n",
    "\n",
    "def sigmoid_backward(dA, Z):\n",
    "    sig = sigmoid(Z)\n",
    "    return dA * sig * (1 - sig)\n",
    "\n",
    "def relu_backward(dA, Z):\n",
    "    dZ = np.array(dA, copy = True)\n",
    "    dZ[Z <= 0] = 0;\n",
    "    return dZ;"
   ]
  },
  {
   "cell_type": "markdown",
   "id": "9e6f27bd-1c6f-4f37-a1fb-673f0de73fa2",
   "metadata": {},
   "source": [
    "## Forward propagation"
   ]
  },
  {
   "cell_type": "code",
   "execution_count": 64,
   "id": "028eceb0-23a9-44c9-bc5f-b7929948ad69",
   "metadata": {
    "ExecuteTime": {
     "end_time": "2024-01-22T21:01:45.366006Z",
     "start_time": "2024-01-22T21:01:45.350986Z"
    }
   },
   "outputs": [],
   "source": [
    "def single_layer_forward_propagation(A_prev, W_curr, b_curr, activation=\"relu\"):\n",
    "    print(A_prev.shape)\n",
    "    Z_curr = np.dot(W_curr, A_prev) + b_curr\n",
    "    \n",
    "    if activation == \"relu\":\n",
    "        activation_func = relu\n",
    "    elif activation == \"sigmoid\":\n",
    "        activation_func = sigmoid\n",
    "    else:\n",
    "        raise Exception('Non-supported activation function')\n",
    "        \n",
    "    return activation_func(Z_curr), Z_curr"
   ]
  },
  {
   "cell_type": "code",
   "execution_count": 65,
   "id": "a07d1dbd-f758-45f1-be97-df0506731d51",
   "metadata": {
    "ExecuteTime": {
     "end_time": "2024-01-22T21:01:45.779192Z",
     "start_time": "2024-01-22T21:01:45.771530Z"
    }
   },
   "outputs": [],
   "source": [
    "def full_forward_propagation(X, params_values, nn_architecture):\n",
    "    memory = {}\n",
    "    A_curr = X\n",
    "    \n",
    "    for idx, layer in enumerate(nn_architecture):\n",
    "        layer_idx = idx + 1\n",
    "        A_prev = A_curr\n",
    "        \n",
    "        activ_function_curr = layer[\"activation\"]\n",
    "        W_curr = params_values[\"W\" + str(layer_idx)]\n",
    "        b_curr = params_values[\"b\" + str(layer_idx)]\n",
    "        A_curr, Z_curr = single_layer_forward_propagation(A_prev, W_curr, b_curr, activ_function_curr)\n",
    "        \n",
    "        memory[\"A\" + str(idx)] = A_prev\n",
    "        memory[\"Z\" + str(layer_idx)] = Z_curr\n",
    "       \n",
    "    return A_curr, memory"
   ]
  },
  {
   "cell_type": "markdown",
   "id": "df4d43e1-e449-4c75-8fc6-17d0ac91609a",
   "metadata": {},
   "source": [
    "# Loss function (binary cross-entropy)"
   ]
  },
  {
   "cell_type": "code",
   "execution_count": 66,
   "id": "3ac15903-ee1b-4dd0-8a4e-8ef9e52c998d",
   "metadata": {
    "ExecuteTime": {
     "end_time": "2024-01-22T21:01:46.258549Z",
     "start_time": "2024-01-22T21:01:46.251814Z"
    }
   },
   "outputs": [],
   "source": [
    "def get_cost_value(Y_hat, Y):\n",
    "    m = Y_hat.shape[1]\n",
    "    cost = -1 / m * (np.dot(Y, np.log(Y_hat).T) + np.dot(1 - Y, np.log(1 - Y_hat).T))\n",
    "    return np.squeeze(cost)\n",
    "\n",
    "# an auxiliary function that converts probability into class\n",
    "def convert_prob_into_class(probs):\n",
    "    probs_ = np.copy(probs)\n",
    "    probs_[probs_ > 0.5] = 1\n",
    "    probs_[probs_ <= 0.5] = 0\n",
    "    return probs_\n",
    "\n",
    "def get_accuracy_value(Y_hat, Y):\n",
    "    Y_hat_ = convert_prob_into_class(Y_hat)\n",
    "    return (Y_hat_ == Y).all(axis=0).mean()"
   ]
  },
  {
   "cell_type": "markdown",
   "id": "0644be20-d294-494e-a08f-9ea6a4746686",
   "metadata": {},
   "source": [
    "## Backward propagation\n",
    "\n",
    "$$\\boldsymbol{dW}^{[l]} = \\frac{\\partial L }{\\partial \\boldsymbol{W}^{[l]}} = \\frac{1}{m} \\boldsymbol{dZ}^{[l]} \\boldsymbol{A}^{[l-1] T}$$\n",
    "\n",
    "\n",
    "\n",
    "$$\\boldsymbol{db}^{[l]} = \\frac{\\partial L }{\\partial \\boldsymbol{b}^{[l]}} = \\frac{1}{m} \\sum_{i = 1}^{m} \\boldsymbol{dZ}^{[l](i)}$$\n",
    "\n",
    "$$\\boldsymbol{dA}^{[l-1]} = \\frac{\\partial L }{\\partial \\boldsymbol{A}^{[l-1]}} = \\boldsymbol{W}^{[l] T} \\boldsymbol{dZ}^{[l]}$$\n",
    "\n",
    "$$\\boldsymbol{dZ}^{[l]} = \\boldsymbol{dA}^{[l]} * g'(\\boldsymbol{Z}^{[l]})$$"
   ]
  },
  {
   "cell_type": "code",
   "execution_count": 67,
   "id": "93abed44-e7f8-4c3c-a56e-740ce35ade46",
   "metadata": {
    "ExecuteTime": {
     "end_time": "2024-01-22T21:01:50.956927Z",
     "start_time": "2024-01-22T21:01:50.939233Z"
    }
   },
   "outputs": [],
   "source": [
    "def single_layer_backward_propagation(dA_curr, W_curr, b_curr, Z_curr, A_prev, activation=\"relu\"):\n",
    "    m = A_prev.shape[1]\n",
    "    \n",
    "    if activation == \"relu\":\n",
    "        backward_activation_func = relu_backward\n",
    "    elif activation == \"sigmoid\":\n",
    "        backward_activation_func = sigmoid_backward\n",
    "    else:\n",
    "        raise Exception('Non-supported activation function')\n",
    "    \n",
    "    dZ_curr = backward_activation_func(dA_curr, Z_curr)\n",
    "    dW_curr = np.dot(dZ_curr, A_prev.T) / m\n",
    "    db_curr = np.sum(dZ_curr, axis=1, keepdims=True) / m\n",
    "    dA_prev = np.dot(W_curr.T, dZ_curr)\n",
    "\n",
    "    return dA_prev, dW_curr, db_curr"
   ]
  },
  {
   "cell_type": "markdown",
   "id": "e3b54863-7466-4164-ba9f-e1cdb66af3a8",
   "metadata": {},
   "source": [
    "$$\\frac{\\partial L }{\\partial \\boldsymbol{\\hat{Y}}} = -(\\frac{\\boldsymbol{Y}}{\\boldsymbol{\\hat{Y}}}- \\frac{1-\\boldsymbol{Y}}{1-\\boldsymbol{\\hat{Y}}})$$"
   ]
  },
  {
   "cell_type": "code",
   "execution_count": 68,
   "id": "5500af56-ad67-4aa5-beab-4e1e8f659d48",
   "metadata": {
    "ExecuteTime": {
     "end_time": "2024-01-22T21:01:51.987284Z",
     "start_time": "2024-01-22T21:01:51.982216Z"
    }
   },
   "outputs": [],
   "source": [
    "def full_backward_propagation(Y_hat, Y, memory, params_values, nn_architecture):\n",
    "    grads_values = {}\n",
    "    m = Y.shape[1]\n",
    "    Y = Y.reshape(Y_hat.shape)\n",
    "   \n",
    "    dA_prev = - (np.divide(Y, Y_hat) - np.divide(1 - Y, 1 - Y_hat));\n",
    "    \n",
    "    for layer_idx_prev, layer in reversed(list(enumerate(nn_architecture))):\n",
    "        layer_idx_curr = layer_idx_prev + 1\n",
    "        activ_function_curr = layer[\"activation\"]\n",
    "        \n",
    "        dA_curr = dA_prev\n",
    "        \n",
    "        A_prev = memory[\"A\" + str(layer_idx_prev)]\n",
    "        Z_curr = memory[\"Z\" + str(layer_idx_curr)]\n",
    "        W_curr = params_values[\"W\" + str(layer_idx_curr)]\n",
    "        b_curr = params_values[\"b\" + str(layer_idx_curr)]\n",
    "        \n",
    "        dA_prev, dW_curr, db_curr = single_layer_backward_propagation(\n",
    "            dA_curr, W_curr, b_curr, Z_curr, A_prev, activ_function_curr)\n",
    "        \n",
    "        grads_values[\"dW\" + str(layer_idx_curr)] = dW_curr\n",
    "        grads_values[\"db\" + str(layer_idx_curr)] = db_curr\n",
    "    \n",
    "    return grads_values"
   ]
  },
  {
   "cell_type": "markdown",
   "id": "58c1e7fb-b43f-4230-8bb2-4f290160ef68",
   "metadata": {},
   "source": [
    "## Updating the parameters (Gradient descent)"
   ]
  },
  {
   "cell_type": "code",
   "execution_count": 69,
   "id": "e832b1a1-deb1-458f-a891-b52a00eaedf1",
   "metadata": {
    "ExecuteTime": {
     "end_time": "2024-01-22T21:01:52.611051Z",
     "start_time": "2024-01-22T21:01:52.590700Z"
    }
   },
   "outputs": [],
   "source": [
    "def update(params_values, grads_values, nn_architecture, learning_rate):\n",
    "    for layer_idx, layer in enumerate(nn_architecture):\n",
    "        params_values[\"W\" + str(layer_idx)] -= learning_rate * grads_values[\"dW\" + str(layer_idx)]        \n",
    "        params_values[\"b\" + str(layer_idx)] -= learning_rate * grads_values[\"db\" + str(layer_idx)]\n",
    "\n",
    "    return params_values;"
   ]
  },
  {
   "cell_type": "markdown",
   "id": "27e5c01d-798a-470f-b0ee-7815fe1e2c28",
   "metadata": {},
   "source": [
    "## Training (putting things together): Error backpropagation algorithm"
   ]
  },
  {
   "cell_type": "code",
   "execution_count": 70,
   "id": "7493b47d-1c54-46ca-8815-8fe06f3b63d2",
   "metadata": {
    "ExecuteTime": {
     "end_time": "2024-01-22T21:01:53.672930Z",
     "start_time": "2024-01-22T21:01:53.622068Z"
    }
   },
   "outputs": [],
   "source": [
    "def train(X, Y, nn_architecture, epochs, learning_rate):\n",
    "    params_values = init_layers(nn_architecture, 2)\n",
    "    cost_history = []\n",
    "    accuracy_history = []\n",
    "    \n",
    "    for i in range(epochs):\n",
    "        Y_hat, cashe = full_forward_propagation(X, params_values, nn_architecture)\n",
    "        cost = get_cost_value(Y_hat, Y)\n",
    "        cost_history.append(cost)\n",
    "        accuracy = get_accuracy_value(Y_hat, Y)\n",
    "        accuracy_history.append(accuracy)\n",
    "        \n",
    "        grads_values = full_backward_propagation(Y_hat, Y, cashe, params_values, nn_architecture)\n",
    "        params_values = update(params_values, grads_values, nn_architecture, learning_rate)\n",
    "        \n",
    "    return params_values, cost_history, accuracy_history"
   ]
  },
  {
   "cell_type": "markdown",
   "id": "a24005fc-0fd2-47c5-9600-a1f2e7464c56",
   "metadata": {},
   "source": [
    "## Example"
   ]
  },
  {
   "cell_type": "code",
   "execution_count": 71,
   "id": "00be5a77-c9a6-4c93-b1ad-a6a38ba955de",
   "metadata": {
    "ExecuteTime": {
     "end_time": "2024-01-22T21:01:54.807160Z",
     "start_time": "2024-01-22T21:01:54.801757Z"
    }
   },
   "outputs": [],
   "source": [
    "x = np.array([[1,2],[3,4],[2,3],[4,5]])\n",
    "y = np.array([[3],[4],[5],[3]])\n",
    "y = np.squeeze(np.asarray(y))"
   ]
  },
  {
   "cell_type": "code",
   "execution_count": 72,
   "id": "cfdbd71d-ae32-4566-9f8e-79a2f9a842a0",
   "metadata": {
    "ExecuteTime": {
     "end_time": "2024-01-22T21:01:55.344784Z",
     "start_time": "2024-01-22T21:01:55.290724Z"
    }
   },
   "outputs": [
    {
     "name": "stdout",
     "output_type": "stream",
     "text": [
      "0\n",
      "{'input_dim': 2, 'output_dim': 2, 'activation': 'sigmoid'}\n",
      "1\n",
      "{'input_dim': 2, 'output_dim': 1, 'activation': 'sigmoid'}\n",
      "(4, 2)\n"
     ]
    },
    {
     "ename": "ValueError",
     "evalue": "shapes (2,2) and (4,2) not aligned: 2 (dim 1) != 4 (dim 0)",
     "output_type": "error",
     "traceback": [
      "\u001B[0;31m---------------------------------------------------------------------------\u001B[0m",
      "\u001B[0;31mValueError\u001B[0m                                Traceback (most recent call last)",
      "Cell \u001B[0;32mIn[72], line 1\u001B[0m\n\u001B[0;32m----> 1\u001B[0m simple_model_1 \u001B[38;5;241m=\u001B[39m \u001B[43mtrain\u001B[49m\u001B[43m(\u001B[49m\u001B[43mx\u001B[49m\u001B[43m,\u001B[49m\u001B[43my\u001B[49m\u001B[43m,\u001B[49m\u001B[43m \u001B[49m\u001B[43mnn_architecture\u001B[49m\u001B[43m,\u001B[49m\u001B[43m \u001B[49m\u001B[38;5;241;43m50\u001B[39;49m\u001B[43m,\u001B[49m\u001B[43m \u001B[49m\u001B[38;5;241;43m0.01\u001B[39;49m\u001B[43m)\u001B[49m\n",
      "Cell \u001B[0;32mIn[70], line 7\u001B[0m, in \u001B[0;36mtrain\u001B[0;34m(X, Y, nn_architecture, epochs, learning_rate)\u001B[0m\n\u001B[1;32m      4\u001B[0m accuracy_history \u001B[38;5;241m=\u001B[39m []\n\u001B[1;32m      6\u001B[0m \u001B[38;5;28;01mfor\u001B[39;00m i \u001B[38;5;129;01min\u001B[39;00m \u001B[38;5;28mrange\u001B[39m(epochs):\n\u001B[0;32m----> 7\u001B[0m     Y_hat, cashe \u001B[38;5;241m=\u001B[39m \u001B[43mfull_forward_propagation\u001B[49m\u001B[43m(\u001B[49m\u001B[43mX\u001B[49m\u001B[43m,\u001B[49m\u001B[43m \u001B[49m\u001B[43mparams_values\u001B[49m\u001B[43m,\u001B[49m\u001B[43m \u001B[49m\u001B[43mnn_architecture\u001B[49m\u001B[43m)\u001B[49m\n\u001B[1;32m      8\u001B[0m     cost \u001B[38;5;241m=\u001B[39m get_cost_value(Y_hat, Y)\n\u001B[1;32m      9\u001B[0m     cost_history\u001B[38;5;241m.\u001B[39mappend(cost)\n",
      "Cell \u001B[0;32mIn[65], line 12\u001B[0m, in \u001B[0;36mfull_forward_propagation\u001B[0;34m(X, params_values, nn_architecture)\u001B[0m\n\u001B[1;32m     10\u001B[0m W_curr \u001B[38;5;241m=\u001B[39m params_values[\u001B[38;5;124m\"\u001B[39m\u001B[38;5;124mW\u001B[39m\u001B[38;5;124m\"\u001B[39m \u001B[38;5;241m+\u001B[39m \u001B[38;5;28mstr\u001B[39m(layer_idx)]\n\u001B[1;32m     11\u001B[0m b_curr \u001B[38;5;241m=\u001B[39m params_values[\u001B[38;5;124m\"\u001B[39m\u001B[38;5;124mb\u001B[39m\u001B[38;5;124m\"\u001B[39m \u001B[38;5;241m+\u001B[39m \u001B[38;5;28mstr\u001B[39m(layer_idx)]\n\u001B[0;32m---> 12\u001B[0m A_curr, Z_curr \u001B[38;5;241m=\u001B[39m \u001B[43msingle_layer_forward_propagation\u001B[49m\u001B[43m(\u001B[49m\u001B[43mA_prev\u001B[49m\u001B[43m,\u001B[49m\u001B[43m \u001B[49m\u001B[43mW_curr\u001B[49m\u001B[43m,\u001B[49m\u001B[43m \u001B[49m\u001B[43mb_curr\u001B[49m\u001B[43m,\u001B[49m\u001B[43m \u001B[49m\u001B[43mactiv_function_curr\u001B[49m\u001B[43m)\u001B[49m\n\u001B[1;32m     14\u001B[0m memory[\u001B[38;5;124m\"\u001B[39m\u001B[38;5;124mA\u001B[39m\u001B[38;5;124m\"\u001B[39m \u001B[38;5;241m+\u001B[39m \u001B[38;5;28mstr\u001B[39m(idx)] \u001B[38;5;241m=\u001B[39m A_prev\n\u001B[1;32m     15\u001B[0m memory[\u001B[38;5;124m\"\u001B[39m\u001B[38;5;124mZ\u001B[39m\u001B[38;5;124m\"\u001B[39m \u001B[38;5;241m+\u001B[39m \u001B[38;5;28mstr\u001B[39m(layer_idx)] \u001B[38;5;241m=\u001B[39m Z_curr\n",
      "Cell \u001B[0;32mIn[64], line 3\u001B[0m, in \u001B[0;36msingle_layer_forward_propagation\u001B[0;34m(A_prev, W_curr, b_curr, activation)\u001B[0m\n\u001B[1;32m      1\u001B[0m \u001B[38;5;28;01mdef\u001B[39;00m \u001B[38;5;21msingle_layer_forward_propagation\u001B[39m(A_prev, W_curr, b_curr, activation\u001B[38;5;241m=\u001B[39m\u001B[38;5;124m\"\u001B[39m\u001B[38;5;124mrelu\u001B[39m\u001B[38;5;124m\"\u001B[39m):\n\u001B[1;32m      2\u001B[0m     \u001B[38;5;28mprint\u001B[39m(A_prev\u001B[38;5;241m.\u001B[39mshape)\n\u001B[0;32m----> 3\u001B[0m     Z_curr \u001B[38;5;241m=\u001B[39m \u001B[43mnp\u001B[49m\u001B[38;5;241;43m.\u001B[39;49m\u001B[43mdot\u001B[49m\u001B[43m(\u001B[49m\u001B[43mW_curr\u001B[49m\u001B[43m,\u001B[49m\u001B[43m \u001B[49m\u001B[43mA_prev\u001B[49m\u001B[43m)\u001B[49m \u001B[38;5;241m+\u001B[39m b_curr\n\u001B[1;32m      5\u001B[0m     \u001B[38;5;28;01mif\u001B[39;00m activation \u001B[38;5;241m==\u001B[39m \u001B[38;5;124m\"\u001B[39m\u001B[38;5;124mrelu\u001B[39m\u001B[38;5;124m\"\u001B[39m:\n\u001B[1;32m      6\u001B[0m         activation_func \u001B[38;5;241m=\u001B[39m relu\n",
      "\u001B[0;31mValueError\u001B[0m: shapes (2,2) and (4,2) not aligned: 2 (dim 1) != 4 (dim 0)"
     ]
    }
   ],
   "source": [
    "simple_model_1 = train(x,y, nn_architecture, 50, 0.01)"
   ]
  },
  {
   "cell_type": "markdown",
   "id": "f70e745c-d2dd-4d7c-abab-43914487ac21",
   "metadata": {},
   "source": [
    "# Backpropagation with keras"
   ]
  },
  {
   "cell_type": "markdown",
   "id": "e4bb8c6d-1a3f-45da-8240-dfcd38ccc8a4",
   "metadata": {
    "colab_type": "text",
    "id": "9ubNxwX3xQ2w"
   },
   "source": [
    "https://colab.research.google.com/drive/1N2vNzxZrj5U3-51eYJobhNcBenlP00Pw"
   ]
  },
  {
   "cell_type": "code",
   "execution_count": null,
   "id": "eae22dc0-b21f-477c-82d5-7ecf9680c519",
   "metadata": {
    "ExecuteTime": {
     "start_time": "2024-01-22T19:33:35.944802Z"
    }
   },
   "outputs": [],
   "source": [
    "! pip install keras"
   ]
  },
  {
   "cell_type": "code",
   "execution_count": null,
   "id": "683ad4cf-61b1-48d1-9df9-88adf83aa4b8",
   "metadata": {
    "ExecuteTime": {
     "start_time": "2024-01-22T19:33:35.945904Z"
    }
   },
   "outputs": [],
   "source": [
    "! pip install tensorflow"
   ]
  },
  {
   "cell_type": "code",
   "execution_count": 24,
   "id": "236875b5-62c0-43ac-94e6-03ecd7cd2bc4",
   "metadata": {
    "colab": {
     "base_uri": "https://localhost:8080/",
     "height": 34
    },
    "colab_type": "code",
    "id": "69_D8f8Q-jck",
    "outputId": "461fb8c1-4c2c-4dfd-cbbb-9348718cbd5d",
    "ExecuteTime": {
     "end_time": "2024-01-22T19:44:12.526116Z",
     "start_time": "2024-01-22T19:44:12.500812Z"
    }
   },
   "outputs": [],
   "source": [
    "import numpy as np\n",
    "from keras.models import Sequential\n",
    "from keras.layers import Dense"
   ]
  },
  {
   "cell_type": "code",
   "execution_count": 25,
   "id": "99c0aa36-5d2c-4ca5-9e84-27490f5596c4",
   "metadata": {
    "colab": {},
    "colab_type": "code",
    "id": "t2R75_Tsf43c",
    "ExecuteTime": {
     "end_time": "2024-01-22T19:44:13.098933Z",
     "start_time": "2024-01-22T19:44:13.077325Z"
    }
   },
   "outputs": [],
   "source": [
    "x = [[1],[2],[3],[4]]\n",
    "y = [[2],[4],[6],[8]]"
   ]
  },
  {
   "cell_type": "code",
   "execution_count": 26,
   "id": "5067c8f4-2394-415b-a9ef-02cc003da6aa",
   "metadata": {
    "colab": {
     "base_uri": "https://localhost:8080/",
     "height": 309
    },
    "colab_type": "code",
    "id": "YGMue2a3f46p",
    "outputId": "a72c82b9-0a61-443d-b823-42743caea508",
    "ExecuteTime": {
     "end_time": "2024-01-22T19:44:13.737209Z",
     "start_time": "2024-01-22T19:44:13.691610Z"
    }
   },
   "outputs": [
    {
     "name": "stdout",
     "output_type": "stream",
     "text": [
      "Model: \"sequential\"\n",
      "_________________________________________________________________\n",
      " Layer (type)                Output Shape              Param #   \n",
      "=================================================================\n",
      " dense (Dense)               (None, 1)                 2         \n",
      "                                                                 \n",
      "=================================================================\n",
      "Total params: 2 (8.00 Byte)\n",
      "Trainable params: 2 (8.00 Byte)\n",
      "Non-trainable params: 0 (0.00 Byte)\n",
      "_________________________________________________________________\n"
     ]
    }
   ],
   "source": [
    "model = Sequential()\n",
    "model.add(Dense(1, activation='linear', input_shape=(1,)))\n",
    "model.summary()"
   ]
  },
  {
   "cell_type": "code",
   "execution_count": 27,
   "id": "380d1aa0-970c-4a83-924a-516f776d3c77",
   "metadata": {
    "colab": {
     "base_uri": "https://localhost:8080/",
     "height": 51
    },
    "colab_type": "code",
    "id": "CIpEfaSvgGTX",
    "outputId": "ca39ad45-07a6-4ea4-a4bf-8bf05520b87f",
    "ExecuteTime": {
     "end_time": "2024-01-22T19:44:16.981459Z",
     "start_time": "2024-01-22T19:44:16.961411Z"
    }
   },
   "outputs": [
    {
     "data": {
      "text/plain": "[<tf.Variable 'dense/kernel:0' shape=(1, 1) dtype=float32, numpy=array([[0.36792767]], dtype=float32)>,\n <tf.Variable 'dense/bias:0' shape=(1,) dtype=float32, numpy=array([0.], dtype=float32)>]"
     },
     "execution_count": 27,
     "metadata": {},
     "output_type": "execute_result"
    }
   ],
   "source": [
    "model.weights"
   ]
  },
  {
   "cell_type": "code",
   "execution_count": 28,
   "id": "201afee6-c171-447b-ba00-5af877eb68db",
   "metadata": {
    "colab": {
     "base_uri": "https://localhost:8080/",
     "height": 122
    },
    "colab_type": "code",
    "id": "RtTiJM0XgHbv",
    "outputId": "e0d8df89-e55f-4386-97f4-5d31994cc1c3",
    "ExecuteTime": {
     "end_time": "2024-01-22T19:44:18.405527Z",
     "start_time": "2024-01-22T19:44:18.397699Z"
    }
   },
   "outputs": [
    {
     "data": {
      "text/plain": "[array([[0.36792767]], dtype=float32), array([0.], dtype=float32)]"
     },
     "execution_count": 28,
     "metadata": {},
     "output_type": "execute_result"
    }
   ],
   "source": [
    "model.get_weights()"
   ]
  },
  {
   "cell_type": "code",
   "execution_count": 29,
   "outputs": [],
   "source": [
    "from tensorflow.keras.optimizers.legacy import SGD\n",
    "s= SGD(learning_rate = 0.01)\n",
    "model.compile(optimizer=s,loss='mean_squared_error',metrics=['accuracy'])"
   ],
   "metadata": {
    "collapsed": false,
    "ExecuteTime": {
     "end_time": "2024-01-22T19:44:20.694907Z",
     "start_time": "2024-01-22T19:44:20.677617Z"
    }
   },
   "id": "29ddf5c9-703e-42d1-a81b-3f4616d7cff2"
  },
  {
   "cell_type": "code",
   "execution_count": 30,
   "outputs": [],
   "source": [
    "from copy import deepcopy"
   ],
   "metadata": {
    "collapsed": false,
    "ExecuteTime": {
     "end_time": "2024-01-22T19:44:22.404303Z",
     "start_time": "2024-01-22T19:44:22.384142Z"
    }
   },
   "id": "cbc779b9-5130-4556-bfce-0635aac72fd8"
  },
  {
   "cell_type": "code",
   "execution_count": 31,
   "id": "91b2ff25-9e92-4bec-b3ec-3be038d851dc",
   "metadata": {
    "colab": {},
    "colab_type": "code",
    "id": "7DrDeh9dgUw_",
    "ExecuteTime": {
     "end_time": "2024-01-22T19:44:23.096417Z",
     "start_time": "2024-01-22T19:44:23.091695Z"
    }
   },
   "outputs": [],
   "source": [
    "w = deepcopy(model.get_weights())"
   ]
  },
  {
   "cell_type": "code",
   "execution_count": 32,
   "id": "4ce39765-078a-41c9-b54f-6e1f53172709",
   "metadata": {
    "colab": {
     "base_uri": "https://localhost:8080/",
     "height": 34
    },
    "colab_type": "code",
    "id": "dDXso2D3hLTm",
    "outputId": "4e129283-c59e-48fc-f9f0-338809166dc6",
    "ExecuteTime": {
     "end_time": "2024-01-22T19:44:24.908788Z",
     "start_time": "2024-01-22T19:44:24.890063Z"
    }
   },
   "outputs": [
    {
     "data": {
      "text/plain": "[array([[0.36792767]], dtype=float32), array([0.], dtype=float32)]"
     },
     "execution_count": 32,
     "metadata": {},
     "output_type": "execute_result"
    }
   ],
   "source": [
    "w"
   ]
  },
  {
   "cell_type": "code",
   "execution_count": 33,
   "id": "f715c605-cd4f-49dd-b546-c4e8ae253773",
   "metadata": {
    "colab": {
     "base_uri": "https://localhost:8080/",
     "height": 34
    },
    "colab_type": "code",
    "id": "1VQcbSUk80Iq",
    "outputId": "b51af49b-bb54-4b7a-940d-0efaa537b0a3",
    "ExecuteTime": {
     "end_time": "2024-01-22T19:44:25.979535Z",
     "start_time": "2024-01-22T19:44:25.960936Z"
    }
   },
   "outputs": [
    {
     "data": {
      "text/plain": "[[[-0.07377076]], [0.0]]"
     },
     "execution_count": 33,
     "metadata": {},
     "output_type": "execute_result"
    }
   ],
   "source": [
    "w = [[[-0.07377076]], [0.]]\n",
    "w"
   ]
  },
  {
   "cell_type": "code",
   "execution_count": 34,
   "id": "a2bf207e-9d0e-4966-b8d8-791f496423d8",
   "metadata": {
    "colab": {
     "base_uri": "https://localhost:8080/",
     "height": 34
    },
    "colab_type": "code",
    "id": "le25igri89J5",
    "outputId": "fee1f8a1-a556-4e65-f2e6-fe3db39b775a",
    "ExecuteTime": {
     "end_time": "2024-01-22T19:44:26.883828Z",
     "start_time": "2024-01-22T19:44:26.865788Z"
    }
   },
   "outputs": [
    {
     "data": {
      "text/plain": "[[-0.07377076]]"
     },
     "execution_count": 34,
     "metadata": {},
     "output_type": "execute_result"
    }
   ],
   "source": [
    "w[0]"
   ]
  },
  {
   "cell_type": "code",
   "execution_count": 35,
   "id": "37bbafcb-febb-44b5-aa9c-005552455349",
   "metadata": {
    "colab": {},
    "colab_type": "code",
    "id": "Z9NcQEFFgXLl",
    "ExecuteTime": {
     "end_time": "2024-01-22T19:44:29.056455Z",
     "start_time": "2024-01-22T19:44:29.037614Z"
    }
   },
   "outputs": [],
   "source": [
    "def feed_forward(inputs, outputs, weights):\n",
    "    hidden = np.dot(inputs,weights[0])\n",
    "    out = hidden+weights[1]\n",
    "    squared_error = (np.square(out - outputs))\n",
    "    return squared_error"
   ]
  },
  {
   "cell_type": "code",
   "execution_count": 36,
   "id": "6ffe2996-aee5-4e88-9587-6c314bd0694c",
   "metadata": {
    "colab": {},
    "colab_type": "code",
    "id": "gVbeiIYi4vly",
    "ExecuteTime": {
     "end_time": "2024-01-22T19:44:30.320309Z",
     "start_time": "2024-01-22T19:44:30.300915Z"
    }
   },
   "outputs": [],
   "source": [
    "def update_weights(inputs, outputs, weights, epochs):  \n",
    "    for epoch in range(epochs):\n",
    "        org_loss = feed_forward(inputs, outputs, weights)  \n",
    "        wts_tmp = deepcopy(weights)\n",
    "        wts_tmp2 = deepcopy(weights)\n",
    "        for ix, wt in enumerate(weights): \n",
    "            wts_tmp[-(ix+1)] += 0.0001\n",
    "            # print('wts_tmp:', wts_tmp)\n",
    "            loss = feed_forward(inputs, outputs, wts_tmp)\n",
    "            # print('loss', loss)\n",
    "            del_loss = np.sum(org_loss - loss)/(0.0001*len(inputs))\n",
    "            wts_tmp2[-(ix+1)] += del_loss*0.01\n",
    "            wts_tmp = deepcopy(weights)\n",
    "\n",
    "        weights = deepcopy(wts_tmp2)\n",
    "    return wts_tmp2"
   ]
  },
  {
   "cell_type": "code",
   "execution_count": 37,
   "id": "ea6f8ec8-fa75-444a-83f8-8a9111254cb4",
   "metadata": {
    "colab": {
     "base_uri": "https://localhost:8080/",
     "height": 34
    },
    "colab_type": "code",
    "id": "Vl-3pGg7wyA0",
    "outputId": "6c928a18-cb08-4766-efe8-cdc529f36264",
    "ExecuteTime": {
     "end_time": "2024-01-22T19:44:31.424490Z",
     "start_time": "2024-01-22T19:44:31.406647Z"
    }
   },
   "outputs": [
    {
     "data": {
      "text/plain": "0"
     },
     "execution_count": 37,
     "metadata": {},
     "output_type": "execute_result"
    }
   ],
   "source": [
    "w = [2000, 0]\n",
    "w[-1]"
   ]
  },
  {
   "cell_type": "code",
   "execution_count": 38,
   "id": "5da21fe7-f27e-48a0-84ae-95da3fdcdc42",
   "metadata": {
    "colab": {
     "base_uri": "https://localhost:8080/",
     "height": 34
    },
    "colab_type": "code",
    "id": "AXoyyzovwbnu",
    "outputId": "ba3ee620-4f5f-45f3-eadb-04ed1c38e6ba",
    "ExecuteTime": {
     "end_time": "2024-01-22T19:44:32.618724Z",
     "start_time": "2024-01-22T19:44:32.597950Z"
    }
   },
   "outputs": [
    {
     "data": {
      "text/plain": "[1700.2999925636686, -99.90000113612041]"
     },
     "execution_count": 38,
     "metadata": {},
     "output_type": "execute_result"
    }
   ],
   "source": [
    "import numpy as np\n",
    "from copy import deepcopy\n",
    "update_weights(x,y,w,1)"
   ]
  },
  {
   "cell_type": "code",
   "execution_count": 39,
   "id": "6c63d209-c5b4-4d53-bd95-b5b75e74cb65",
   "metadata": {
    "colab": {},
    "colab_type": "code",
    "id": "Cp1ARjWVxjv6",
    "ExecuteTime": {
     "end_time": "2024-01-22T19:44:33.516105Z",
     "start_time": "2024-01-22T19:44:33.335340Z"
    }
   },
   "outputs": [],
   "source": [
    "w_val = []\n",
    "b_val = []\n",
    "for k in range(100):\n",
    "    w_new, b_new = update_weights(x,y,w,(k+1))\n",
    "    w_val.append(w_new)\n",
    "    b_val.append(b_new)"
   ]
  },
  {
   "cell_type": "code",
   "execution_count": 49,
   "id": "829eeb34-d126-4408-899b-228a4d10e3cc",
   "metadata": {
    "colab": {
     "base_uri": "https://localhost:8080/",
     "height": 346
    },
    "colab_type": "code",
    "id": "YxqiDTabCpbq",
    "outputId": "486aa6ad-ab4e-429a-e34f-1ba86a7eb8c9",
    "ExecuteTime": {
     "end_time": "2024-01-22T20:01:10.609046Z",
     "start_time": "2024-01-22T20:01:10.524433Z"
    }
   },
   "outputs": [
    {
     "data": {
      "text/plain": "<Figure size 640x480 with 1 Axes>",
      "image/png": "[encoded data removed]"
     },
     "metadata": {},
     "output_type": "display_data"
    }
   ],
   "source": [
    "import matplotlib.pyplot as plt\n",
    "%matplotlib inline\n",
    "plt.plot(w_val)\n",
    "plt.title('Weight value over different epochs when initial weight is 1.5')\n",
    "plt.xlabel('epochs')\n",
    "plt.ylabel('weight value')\n",
    "plt.grid(False)"
   ]
  },
  {
   "cell_type": "code",
   "execution_count": 48,
   "id": "62ddb00b-519d-41e6-958d-3f7771497aad",
   "metadata": {
    "colab": {
     "base_uri": "https://localhost:8080/",
     "height": 346
    },
    "colab_type": "code",
    "id": "vD7_gStUCag4",
    "outputId": "684da867-5510-46b4-94e1-6dbf6ee7cb41",
    "ExecuteTime": {
     "end_time": "2024-01-22T20:01:06.227188Z",
     "start_time": "2024-01-22T20:01:06.131726Z"
    }
   },
   "outputs": [
    {
     "data": {
      "text/plain": "<Figure size 640x480 with 1 Axes>",
      "image/png": "[encoded data removed]"
     },
     "metadata": {},
     "output_type": "display_data"
    }
   ],
   "source": [
    "import matplotlib.pyplot as plt\n",
    "%matplotlib inline\n",
    "plt.plot(w_val)\n",
    "plt.title('Weight value over different epochs when initial weight is 0.01')\n",
    "plt.xlabel('epochs')\n",
    "plt.ylabel('weight value')\n",
    "plt.grid(False)"
   ]
  },
  {
   "cell_type": "code",
   "execution_count": 47,
   "id": "98bb5e3c-6829-48fd-8e0b-3dc9df2838c3",
   "metadata": {
    "colab": {
     "base_uri": "https://localhost:8080/",
     "height": 346
    },
    "colab_type": "code",
    "id": "0QmI07khy8Yt",
    "outputId": "7c5e239c-1cbf-4f81-c8ce-f605ed954966",
    "ExecuteTime": {
     "end_time": "2024-01-22T20:01:00.604854Z",
     "start_time": "2024-01-22T20:01:00.503506Z"
    }
   },
   "outputs": [
    {
     "data": {
      "text/plain": "<Figure size 640x480 with 1 Axes>",
      "image/png": "[encoded data removed]"
     },
     "metadata": {},
     "output_type": "display_data"
    }
   ],
   "source": [
    "import matplotlib.pyplot as plt\n",
    "%matplotlib inline\n",
    "plt.plot(w_val)\n",
    "plt.title('Weight value over different epochs when initial weight is 0.00001')\n",
    "plt.xlabel('epochs')\n",
    "plt.ylabel('weight value')\n",
    "plt.grid(False)"
   ]
  },
  {
   "cell_type": "code",
   "execution_count": 43,
   "id": "b089f87e-e388-4bdb-8eb7-16497b197f74",
   "metadata": {
    "colab": {
     "base_uri": "https://localhost:8080/",
     "height": 34
    },
    "colab_type": "code",
    "id": "JQhrdZhQqEdW",
    "outputId": "27faf895-e7cb-4555-b133-ad14b9215e5f",
    "ExecuteTime": {
     "end_time": "2024-01-22T19:44:39.398551Z",
     "start_time": "2024-01-22T19:44:39.380286Z"
    }
   },
   "outputs": [
    {
     "data": {
      "text/plain": "[array([[0.36792767]], dtype=float32), array([0.], dtype=float32)]"
     },
     "execution_count": 43,
     "metadata": {},
     "output_type": "execute_result"
    }
   ],
   "source": [
    "w = list(model.get_weights().copy())\n",
    "w"
   ]
  },
  {
   "cell_type": "code",
   "execution_count": 44,
   "id": "3634ca1e-f3a4-4975-b584-bd24250a23de",
   "metadata": {
    "colab": {
     "base_uri": "https://localhost:8080/",
     "height": 34
    },
    "colab_type": "code",
    "id": "wJMNp4m2kh2X",
    "outputId": "c6ff2567-78b3-449c-f7c2-adf16dc743da",
    "ExecuteTime": {
     "end_time": "2024-01-22T19:44:40.082166Z",
     "start_time": "2024-01-22T19:44:40.073547Z"
    }
   },
   "outputs": [
    {
     "data": {
      "text/plain": "[array([[1.874548]], dtype=float32), array([0.36870822], dtype=float32)]"
     },
     "execution_count": 44,
     "metadata": {},
     "output_type": "execute_result"
    }
   ],
   "source": [
    "update_weights(x,y,w,100)"
   ]
  },
  {
   "cell_type": "code",
   "execution_count": 45,
   "id": "1b7aab44-0921-4ee8-9208-3c21c66b2a12",
   "metadata": {
    "colab": {
     "base_uri": "https://localhost:8080/",
     "height": 1000
    },
    "colab_type": "code",
    "id": "gsBQ4FM5kmKm",
    "outputId": "d0c8c81b-b8ed-4fcc-9bf3-0e0f19ca2897",
    "ExecuteTime": {
     "end_time": "2024-01-22T19:44:41.034657Z",
     "start_time": "2024-01-22T19:44:40.544335Z"
    }
   },
   "outputs": [
    {
     "name": "stdout",
     "output_type": "stream",
     "text": [
      "Epoch 1/100\n",
      "1/1 [==============================] - 0s 96ms/step - loss: 19.9774 - accuracy: 0.0000e+00\n",
      "Epoch 2/100\n",
      "1/1 [==============================] - 0s 2ms/step - loss: 13.8743 - accuracy: 0.0000e+00\n",
      "Epoch 3/100\n",
      "1/1 [==============================] - 0s 1ms/step - loss: 9.6394 - accuracy: 0.0000e+00\n",
      "Epoch 4/100\n",
      "1/1 [==============================] - 0s 2ms/step - loss: 6.7009 - accuracy: 0.0000e+00\n",
      "Epoch 5/100\n",
      "1/1 [==============================] - 0s 1ms/step - loss: 4.6618 - accuracy: 0.0000e+00\n",
      "Epoch 6/100\n",
      "1/1 [==============================] - 0s 2ms/step - loss: 3.2468 - accuracy: 0.0000e+00\n",
      "Epoch 7/100\n",
      "1/1 [==============================] - 0s 2ms/step - loss: 2.2649 - accuracy: 0.0000e+00\n",
      "Epoch 8/100\n",
      "1/1 [==============================] - 0s 2ms/step - loss: 1.5836 - accuracy: 0.0000e+00\n",
      "Epoch 9/100\n",
      "1/1 [==============================] - 0s 2ms/step - loss: 1.1107 - accuracy: 0.0000e+00\n",
      "Epoch 10/100\n",
      "1/1 [==============================] - 0s 2ms/step - loss: 0.7825 - accuracy: 0.0000e+00\n",
      "Epoch 11/100\n",
      "1/1 [==============================] - 0s 1ms/step - loss: 0.5547 - accuracy: 0.0000e+00\n",
      "Epoch 12/100\n",
      "1/1 [==============================] - 0s 2ms/step - loss: 0.3966 - accuracy: 0.0000e+00\n",
      "Epoch 13/100\n",
      "1/1 [==============================] - 0s 2ms/step - loss: 0.2868 - accuracy: 0.0000e+00\n",
      "Epoch 14/100\n",
      "1/1 [==============================] - 0s 2ms/step - loss: 0.2106 - accuracy: 0.0000e+00\n",
      "Epoch 15/100\n",
      "1/1 [==============================] - 0s 2ms/step - loss: 0.1576 - accuracy: 0.0000e+00\n",
      "Epoch 16/100\n",
      "1/1 [==============================] - 0s 2ms/step - loss: 0.1208 - accuracy: 0.0000e+00\n",
      "Epoch 17/100\n",
      "1/1 [==============================] - 0s 2ms/step - loss: 0.0951 - accuracy: 0.0000e+00\n",
      "Epoch 18/100\n",
      "1/1 [==============================] - 0s 2ms/step - loss: 0.0773 - accuracy: 0.0000e+00\n",
      "Epoch 19/100\n",
      "1/1 [==============================] - 0s 2ms/step - loss: 0.0648 - accuracy: 0.0000e+00\n",
      "Epoch 20/100\n",
      "1/1 [==============================] - 0s 1ms/step - loss: 0.0561 - accuracy: 0.0000e+00\n",
      "Epoch 21/100\n",
      "1/1 [==============================] - 0s 2ms/step - loss: 0.0500 - accuracy: 0.0000e+00\n",
      "Epoch 22/100\n",
      "1/1 [==============================] - 0s 2ms/step - loss: 0.0457 - accuracy: 0.0000e+00\n",
      "Epoch 23/100\n",
      "1/1 [==============================] - 0s 2ms/step - loss: 0.0427 - accuracy: 0.0000e+00\n",
      "Epoch 24/100\n",
      "1/1 [==============================] - 0s 1ms/step - loss: 0.0405 - accuracy: 0.0000e+00\n",
      "Epoch 25/100\n",
      "1/1 [==============================] - 0s 2ms/step - loss: 0.0389 - accuracy: 0.0000e+00\n",
      "Epoch 26/100\n",
      "1/1 [==============================] - 0s 2ms/step - loss: 0.0377 - accuracy: 0.0000e+00\n",
      "Epoch 27/100\n",
      "1/1 [==============================] - 0s 2ms/step - loss: 0.0369 - accuracy: 0.0000e+00\n",
      "Epoch 28/100\n",
      "1/1 [==============================] - 0s 1ms/step - loss: 0.0362 - accuracy: 0.0000e+00\n",
      "Epoch 29/100\n",
      "1/1 [==============================] - 0s 2ms/step - loss: 0.0357 - accuracy: 0.0000e+00\n",
      "Epoch 30/100\n",
      "1/1 [==============================] - 0s 2ms/step - loss: 0.0352 - accuracy: 0.0000e+00\n",
      "Epoch 31/100\n",
      "1/1 [==============================] - 0s 2ms/step - loss: 0.0349 - accuracy: 0.0000e+00\n",
      "Epoch 32/100\n",
      "1/1 [==============================] - 0s 2ms/step - loss: 0.0346 - accuracy: 0.0000e+00\n",
      "Epoch 33/100\n",
      "1/1 [==============================] - 0s 2ms/step - loss: 0.0343 - accuracy: 0.0000e+00\n",
      "Epoch 34/100\n",
      "1/1 [==============================] - 0s 2ms/step - loss: 0.0340 - accuracy: 0.0000e+00\n",
      "Epoch 35/100\n",
      "1/1 [==============================] - 0s 2ms/step - loss: 0.0338 - accuracy: 0.0000e+00\n",
      "Epoch 36/100\n",
      "1/1 [==============================] - 0s 2ms/step - loss: 0.0336 - accuracy: 0.0000e+00\n",
      "Epoch 37/100\n",
      "1/1 [==============================] - 0s 2ms/step - loss: 0.0334 - accuracy: 0.0000e+00\n",
      "Epoch 38/100\n",
      "1/1 [==============================] - 0s 2ms/step - loss: 0.0331 - accuracy: 0.0000e+00\n",
      "Epoch 39/100\n",
      "1/1 [==============================] - 0s 2ms/step - loss: 0.0329 - accuracy: 0.0000e+00\n",
      "Epoch 40/100\n",
      "1/1 [==============================] - 0s 2ms/step - loss: 0.0327 - accuracy: 0.0000e+00\n",
      "Epoch 41/100\n",
      "1/1 [==============================] - 0s 2ms/step - loss: 0.0325 - accuracy: 0.0000e+00\n",
      "Epoch 42/100\n",
      "1/1 [==============================] - 0s 2ms/step - loss: 0.0323 - accuracy: 0.0000e+00\n",
      "Epoch 43/100\n",
      "1/1 [==============================] - 0s 2ms/step - loss: 0.0321 - accuracy: 0.0000e+00\n",
      "Epoch 44/100\n",
      "1/1 [==============================] - 0s 2ms/step - loss: 0.0319 - accuracy: 0.0000e+00\n",
      "Epoch 45/100\n",
      "1/1 [==============================] - 0s 1ms/step - loss: 0.0318 - accuracy: 0.0000e+00\n",
      "Epoch 46/100\n",
      "1/1 [==============================] - 0s 2ms/step - loss: 0.0316 - accuracy: 0.0000e+00\n",
      "Epoch 47/100\n",
      "1/1 [==============================] - 0s 2ms/step - loss: 0.0314 - accuracy: 0.0000e+00\n",
      "Epoch 48/100\n",
      "1/1 [==============================] - 0s 2ms/step - loss: 0.0312 - accuracy: 0.0000e+00\n",
      "Epoch 49/100\n",
      "1/1 [==============================] - 0s 2ms/step - loss: 0.0310 - accuracy: 0.0000e+00\n",
      "Epoch 50/100\n",
      "1/1 [==============================] - 0s 2ms/step - loss: 0.0308 - accuracy: 0.0000e+00\n",
      "Epoch 51/100\n",
      "1/1 [==============================] - 0s 1ms/step - loss: 0.0306 - accuracy: 0.0000e+00\n",
      "Epoch 52/100\n",
      "1/1 [==============================] - 0s 2ms/step - loss: 0.0305 - accuracy: 0.0000e+00\n",
      "Epoch 53/100\n",
      "1/1 [==============================] - 0s 1ms/step - loss: 0.0303 - accuracy: 0.0000e+00\n",
      "Epoch 54/100\n",
      "1/1 [==============================] - 0s 2ms/step - loss: 0.0301 - accuracy: 0.0000e+00\n",
      "Epoch 55/100\n",
      "1/1 [==============================] - 0s 2ms/step - loss: 0.0299 - accuracy: 0.0000e+00\n",
      "Epoch 56/100\n",
      "1/1 [==============================] - 0s 2ms/step - loss: 0.0297 - accuracy: 0.0000e+00\n",
      "Epoch 57/100\n",
      "1/1 [==============================] - 0s 2ms/step - loss: 0.0296 - accuracy: 0.0000e+00\n",
      "Epoch 58/100\n",
      "1/1 [==============================] - 0s 2ms/step - loss: 0.0294 - accuracy: 0.0000e+00\n",
      "Epoch 59/100\n",
      "1/1 [==============================] - 0s 2ms/step - loss: 0.0292 - accuracy: 0.0000e+00\n",
      "Epoch 60/100\n",
      "1/1 [==============================] - 0s 2ms/step - loss: 0.0290 - accuracy: 0.0000e+00\n",
      "Epoch 61/100\n",
      "1/1 [==============================] - 0s 1ms/step - loss: 0.0289 - accuracy: 0.0000e+00\n",
      "Epoch 62/100\n",
      "1/1 [==============================] - 0s 2ms/step - loss: 0.0287 - accuracy: 0.0000e+00\n",
      "Epoch 63/100\n",
      "1/1 [==============================] - 0s 2ms/step - loss: 0.0285 - accuracy: 0.0000e+00\n",
      "Epoch 64/100\n",
      "1/1 [==============================] - 0s 1ms/step - loss: 0.0283 - accuracy: 0.0000e+00\n",
      "Epoch 65/100\n",
      "1/1 [==============================] - 0s 1ms/step - loss: 0.0282 - accuracy: 0.0000e+00\n",
      "Epoch 66/100\n",
      "1/1 [==============================] - 0s 2ms/step - loss: 0.0280 - accuracy: 0.0000e+00\n",
      "Epoch 67/100\n",
      "1/1 [==============================] - 0s 2ms/step - loss: 0.0278 - accuracy: 0.0000e+00\n",
      "Epoch 68/100\n",
      "1/1 [==============================] - 0s 2ms/step - loss: 0.0277 - accuracy: 0.0000e+00\n",
      "Epoch 69/100\n",
      "1/1 [==============================] - 0s 2ms/step - loss: 0.0275 - accuracy: 0.0000e+00\n",
      "Epoch 70/100\n",
      "1/1 [==============================] - 0s 2ms/step - loss: 0.0273 - accuracy: 0.0000e+00\n",
      "Epoch 71/100\n",
      "1/1 [==============================] - 0s 2ms/step - loss: 0.0272 - accuracy: 0.0000e+00\n",
      "Epoch 72/100\n",
      "1/1 [==============================] - 0s 2ms/step - loss: 0.0270 - accuracy: 0.0000e+00\n",
      "Epoch 73/100\n",
      "1/1 [==============================] - 0s 2ms/step - loss: 0.0268 - accuracy: 0.0000e+00\n",
      "Epoch 74/100\n",
      "1/1 [==============================] - 0s 1ms/step - loss: 0.0267 - accuracy: 0.0000e+00\n",
      "Epoch 75/100\n",
      "1/1 [==============================] - 0s 1ms/step - loss: 0.0265 - accuracy: 0.0000e+00\n",
      "Epoch 76/100\n",
      "1/1 [==============================] - 0s 2ms/step - loss: 0.0264 - accuracy: 0.0000e+00\n",
      "Epoch 77/100\n",
      "1/1 [==============================] - 0s 2ms/step - loss: 0.0262 - accuracy: 0.0000e+00\n",
      "Epoch 78/100\n",
      "1/1 [==============================] - 0s 2ms/step - loss: 0.0261 - accuracy: 0.0000e+00\n",
      "Epoch 79/100\n",
      "1/1 [==============================] - 0s 2ms/step - loss: 0.0259 - accuracy: 0.0000e+00\n",
      "Epoch 80/100\n",
      "1/1 [==============================] - 0s 1ms/step - loss: 0.0257 - accuracy: 0.0000e+00\n",
      "Epoch 81/100\n",
      "1/1 [==============================] - 0s 2ms/step - loss: 0.0256 - accuracy: 0.0000e+00\n",
      "Epoch 82/100\n",
      "1/1 [==============================] - 0s 2ms/step - loss: 0.0254 - accuracy: 0.0000e+00\n",
      "Epoch 83/100\n",
      "1/1 [==============================] - 0s 2ms/step - loss: 0.0253 - accuracy: 0.0000e+00\n",
      "Epoch 84/100\n",
      "1/1 [==============================] - 0s 2ms/step - loss: 0.0251 - accuracy: 0.0000e+00\n",
      "Epoch 85/100\n",
      "1/1 [==============================] - 0s 2ms/step - loss: 0.0250 - accuracy: 0.0000e+00\n",
      "Epoch 86/100\n",
      "1/1 [==============================] - 0s 2ms/step - loss: 0.0248 - accuracy: 0.0000e+00\n",
      "Epoch 87/100\n",
      "1/1 [==============================] - 0s 2ms/step - loss: 0.0247 - accuracy: 0.0000e+00\n",
      "Epoch 88/100\n",
      "1/1 [==============================] - 0s 2ms/step - loss: 0.0245 - accuracy: 0.0000e+00\n",
      "Epoch 89/100\n",
      "1/1 [==============================] - 0s 2ms/step - loss: 0.0244 - accuracy: 0.0000e+00\n",
      "Epoch 90/100\n",
      "1/1 [==============================] - 0s 3ms/step - loss: 0.0242 - accuracy: 0.0000e+00\n",
      "Epoch 91/100\n",
      "1/1 [==============================] - 0s 2ms/step - loss: 0.0241 - accuracy: 0.0000e+00\n",
      "Epoch 92/100\n",
      "1/1 [==============================] - 0s 2ms/step - loss: 0.0240 - accuracy: 0.0000e+00\n",
      "Epoch 93/100\n",
      "1/1 [==============================] - 0s 2ms/step - loss: 0.0238 - accuracy: 0.0000e+00\n",
      "Epoch 94/100\n",
      "1/1 [==============================] - 0s 2ms/step - loss: 0.0237 - accuracy: 0.0000e+00\n",
      "Epoch 95/100\n",
      "1/1 [==============================] - 0s 1ms/step - loss: 0.0235 - accuracy: 0.0000e+00\n",
      "Epoch 96/100\n",
      "1/1 [==============================] - 0s 1ms/step - loss: 0.0234 - accuracy: 0.0000e+00\n",
      "Epoch 97/100\n",
      "1/1 [==============================] - 0s 1ms/step - loss: 0.0232 - accuracy: 0.0000e+00\n",
      "Epoch 98/100\n",
      "1/1 [==============================] - 0s 1ms/step - loss: 0.0231 - accuracy: 0.0000e+00\n",
      "Epoch 99/100\n",
      "1/1 [==============================] - 0s 2ms/step - loss: 0.0230 - accuracy: 0.0000e+00\n",
      "Epoch 100/100\n",
      "1/1 [==============================] - 0s 2ms/step - loss: 0.0228 - accuracy: 0.0000e+00\n"
     ]
    },
    {
     "data": {
      "text/plain": "<keras.src.callbacks.History at 0x298e76430>"
     },
     "execution_count": 45,
     "metadata": {},
     "output_type": "execute_result"
    }
   ],
   "source": [
    "model.fit(np.array(x), np.array(y), epochs=100, batch_size = 4, verbose=1)"
   ]
  },
  {
   "cell_type": "code",
   "execution_count": 46,
   "id": "9adaef87-4b83-4537-bb98-0354258020ac",
   "metadata": {
    "colab": {
     "base_uri": "https://localhost:8080/",
     "height": 34
    },
    "colab_type": "code",
    "id": "-XgMBr75kpoU",
    "outputId": "f7282cb6-93d1-4162-d3cd-6c5de08457c1",
    "ExecuteTime": {
     "end_time": "2024-01-22T19:44:41.216800Z",
     "start_time": "2024-01-22T19:44:41.091524Z"
    }
   },
   "outputs": [
    {
     "data": {
      "text/plain": "[array([[1.8746138]], dtype=float32), array([0.36865044], dtype=float32)]"
     },
     "execution_count": 46,
     "metadata": {},
     "output_type": "execute_result"
    }
   ],
   "source": [
    "model.get_weights()"
   ]
  },
  {
   "cell_type": "markdown",
   "source": [
    "# test"
   ],
   "metadata": {
    "collapsed": false
   },
   "id": "9a0bf6d8e53ab82"
  },
  {
   "cell_type": "code",
   "execution_count": 59,
   "outputs": [
    {
     "name": "stdout",
     "output_type": "stream",
     "text": [
      "min in point [x y f(x,y)]: [1.        1.        7.3890561]\n"
     ]
    },
    {
     "data": {
      "text/plain": "<Figure size 640x480 with 1 Axes>",
      "image/png": "[encoded data removed]"
     },
     "metadata": {},
     "output_type": "display_data"
    }
   ],
   "source": [
    "import numpy as np\n",
    "import matplotlib.pyplot as plt\n",
    "\n",
    "def f(x, y):\n",
    "    return np.exp(np.sqrt(x + 3 * y))\n",
    "\n",
    "def der_f(x, y):\n",
    "    common_term = f(x, y) / (2 * np.sqrt(x + 3 * y))\n",
    "    df_dx = common_term\n",
    "    df_dy = 3 * common_term\n",
    "    return np.array([df_dx, df_dy])\n",
    "\n",
    "alpha = 0.01  # learning rate\n",
    "num_iterations = 1000\n",
    "\n",
    "# Initialize x and y within the specified range [1, 16]\n",
    "x, y = np.random.uniform(1, 16, 2)\n",
    "\n",
    "# Gradient Descent Loop\n",
    "path = []  # to store the trajectory of (x, y)\n",
    "for i in range(num_iterations):\n",
    "    path.append([x, y, f(x, y)])\n",
    "    grad = der_f(x, y)\n",
    "    x -= alpha * grad[0]\n",
    "    y -= alpha * grad[1]\n",
    "    x = np.clip(x, 1, 16)\n",
    "    y = np.clip(y, 1, 16)\n",
    "\n",
    "path = np.array(path)\n",
    "min_f_point = path[path[:, 2].argmin()]\n",
    "print(f'min in point [x y f(x,y)]: {min_f_point}')\n",
    "\n",
    "fig = plt.figure()\n",
    "ax = fig.add_subplot(111, projection='3d')\n",
    "\n",
    "X, Y = np.meshgrid(np.linspace(1, 16, 100), np.linspace(1, 16, 100))\n",
    "Z = f(X, Y)\n",
    "ax.plot_surface(X, Y, Z, alpha=0.5, cmap='jet', rstride=100, cstride=100)\n",
    "\n",
    "ax.plot(path[:, 0], path[:, 1], f(path[:, 0], path[:, 1]), color='r', marker='*')\n",
    "\n",
    "ax.set_xlabel('x')\n",
    "ax.set_ylabel('y')\n",
    "ax.set_zlabel('f(x, y)')\n",
    "plt.show()"
   ],
   "metadata": {
    "collapsed": false,
    "ExecuteTime": {
     "end_time": "2024-01-22T21:00:28.155904Z",
     "start_time": "2024-01-22T21:00:28.090083Z"
    }
   },
   "id": "8fc93add75dc4b63"
  },
  {
   "cell_type": "code",
   "execution_count": null,
   "outputs": [],
   "source": [],
   "metadata": {
    "collapsed": false
   },
   "id": "47474bd867fb853"
  }
 ],
 "metadata": {
  "kernelspec": {
   "display_name": "Python 3",
   "language": "python",
   "name": "python3"
  },
  "language_info": {
   "codemirror_mode": {
    "name": "ipython",
    "version": 3
   },
   "file_extension": ".py",
   "mimetype": "text/x-python",
   "name": "python",
   "nbconvert_exporter": "python",
   "pygments_lexer": "ipython3",
   "version": "3.8.8"
  }
 },
 "nbformat": 4,
 "nbformat_minor": 5
}
