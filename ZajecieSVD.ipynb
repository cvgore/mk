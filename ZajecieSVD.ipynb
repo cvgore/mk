{
 "cells": [
  {
   "cell_type": "code",
   "execution_count": 78,
   "outputs": [
    {
     "name": "stdout",
     "output_type": "stream",
     "text": [
      "a = 2.288666718160395\n",
      "b = 4.5773334363207905\n"
     ]
    }
   ],
   "source": [
    "import pandas as pd\n",
    "from numpy.linalg import pinv\n",
    "\n",
    "data = pd.read_csv('war3.csv', sep=';')\n",
    "\n",
    "X = data[['x1', 'x2']].values.astype(float)\n",
    "y = data['y'].values.astype(float)\n",
    "\n",
    "a, b = coefficients = pinv(X).dot(y)\n",
    "\n",
    "print(f\"a = {a}\")\n",
    "print(f\"b = {b}\")\n"
   ],
   "metadata": {
    "collapsed": false,
    "ExecuteTime": {
     "end_time": "2024-01-22T15:48:41.778281Z",
     "start_time": "2024-01-22T15:48:41.765568Z"
    }
   },
   "id": "3f7b6b6b871e65c5"
  },
  {
   "cell_type": "code",
   "execution_count": null,
   "outputs": [],
   "source": [],
   "metadata": {
    "collapsed": false
   },
   "id": "fb1ee0a5eacbe0a2"
  }
 ],
 "metadata": {
  "kernelspec": {
   "display_name": "Python 3 (ipykernel)",
   "language": "python",
   "name": "python3"
  },
  "language_info": {
   "codemirror_mode": {
    "name": "ipython",
    "version": 3
   },
   "file_extension": ".py",
   "mimetype": "text/x-python",
   "name": "python",
   "nbconvert_exporter": "python",
   "pygments_lexer": "ipython3",
   "version": "3.10.9"
  }
 },
 "nbformat": 4,
 "nbformat_minor": 5
}
